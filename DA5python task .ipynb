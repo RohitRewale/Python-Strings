{
 "cells": [
  {
   "cell_type": "markdown",
   "id": "cf2291e1-e8ba-48a2-a151-988e33a41c4f",
   "metadata": {},
   "source": [
    "# string capitalize method coverts first letter inn uppercase"
   ]
  },
  {
   "cell_type": "markdown",
   "id": "2db66cf2-1799-4c99-9ffd-0f437746db28",
   "metadata": {},
   "source": [
    "# capitalize()"
   ]
  },
  {
   "cell_type": "code",
   "execution_count": 27,
   "id": "be34116d-7039-4156-a84d-a27241be0510",
   "metadata": {},
   "outputs": [
    {
     "name": "stdout",
     "output_type": "stream",
     "text": [
      "Hello, guys welcome back to my vlog.\n"
     ]
    }
   ],
   "source": [
    "str1 = \"hello, guys welcome back to my vlog.\"\n",
    "sentence = str1.capitalize()\n",
    "print(sentence)\n"
   ]
  },
  {
   "cell_type": "markdown",
   "id": "ba5fef55-40c5-4160-aa00-32d711717ca5",
   "metadata": {},
   "source": [
    "# string capitalize method coverts first letter inn lowercase"
   ]
  },
  {
   "cell_type": "code",
   "execution_count": 23,
   "id": "95a79197-4477-4dca-8246-1a2377c6281a",
   "metadata": {},
   "outputs": [
    {
     "name": "stdout",
     "output_type": "stream",
     "text": [
      "hello, and welcome to my world!\n"
     ]
    }
   ],
   "source": [
    "str2 = \"Hello, And Welcome To My World!\"\n",
    "\n",
    "sentence = str2.casefold()\n",
    "\n",
    "print(sentence)"
   ]
  },
  {
   "cell_type": "markdown",
   "id": "7fe35477-718d-4316-9ea1-f6fe094f9591",
   "metadata": {},
   "source": [
    "#  string center method  position of sentence, syntax = center (60) where 60 is length"
   ]
  },
  {
   "cell_type": "code",
   "execution_count": 21,
   "id": "f819c6b7-cd5f-48fd-be3f-dc59af33405b",
   "metadata": {},
   "outputs": [
    {
     "name": "stdout",
     "output_type": "stream",
     "text": [
      "                           APPLE                            \n"
     ]
    }
   ],
   "source": [
    "str3 = \"APPLE \"\n",
    "\n",
    "sentence = str3.center(60)\n",
    "\n",
    "print(sentence)"
   ]
  },
  {
   "cell_type": "markdown",
   "id": "e7e4b624-fbcf-4986-9d10-5de7cef3779f",
   "metadata": {},
   "source": [
    "# string count method  position of sentence, syntax = count (pineapple) "
   ]
  },
  {
   "cell_type": "code",
   "execution_count": 38,
   "id": "9eec645d-b4e4-4502-91e7-827eac73455b",
   "metadata": {},
   "outputs": [
    {
     "name": "stdout",
     "output_type": "stream",
     "text": [
      "2\n"
     ]
    }
   ],
   "source": [
    "str4 = \"I love pineapple, pineapple are my favorite fruit\"\n",
    "\n",
    "sentence = str4.count(\"pineapple\")\n",
    "\n",
    "print(sentence)"
   ]
  },
  {
   "cell_type": "markdown",
   "id": "532fc25e-e0ff-42bf-8f20-c00873f79884",
   "metadata": {},
   "source": [
    "# string Returns an encoded version of the string\n"
   ]
  },
  {
   "cell_type": "code",
   "execution_count": 44,
   "id": "2629dbbf-22ad-49b9-bbc2-e68825731c4e",
   "metadata": {},
   "outputs": [
    {
     "name": "stdout",
     "output_type": "stream",
     "text": [
      "b' i love America and their culture'\n"
     ]
    }
   ],
   "source": [
    "str5 = ' i love America and their culture'\n",
    "sentence = str5.encode()\n",
    "print(sentence)"
   ]
  },
  {
   "cell_type": "markdown",
   "id": "25de8dc3-60d1-44e1-853a-92a82bcb8bdf",
   "metadata": {},
   "source": [
    " # string Ends with specific symbol that shows true or False "
   ]
  },
  {
   "cell_type": "code",
   "execution_count": 52,
   "id": "427b0189-24bd-4141-8cac-7b19287c254c",
   "metadata": {},
   "outputs": [
    {
     "name": "stdout",
     "output_type": "stream",
     "text": [
      "True\n"
     ]
    }
   ],
   "source": [
    "str6 = \"Hello, welcome to my world.\"\n",
    "\n",
    "sentence = str6.endswith(\".\")\n",
    "\n",
    "print(sentence)"
   ]
  },
  {
   "cell_type": "code",
   "execution_count": 56,
   "id": "17f982a8-3e45-4dac-9110-21e732b04e60",
   "metadata": {},
   "outputs": [
    {
     "name": "stdout",
     "output_type": "stream",
     "text": [
      "False\n"
     ]
    }
   ],
   "source": [
    "str6 = \"Hello, welcome to my world.\"\n",
    "\n",
    "sentence = str6.endswith(\",\")\n",
    "\n",
    "print(sentence)"
   ]
  },
  {
   "cell_type": "markdown",
   "id": "1bc23908-bbf5-4709-a32f-a4f0bd1970ee",
   "metadata": {},
   "source": [
    " # String expandtabs() Method sets the tab size to the specified number of whitespaces"
   ]
  },
  {
   "cell_type": "code",
   "execution_count": 3,
   "id": "17c10024-dded-4ef8-a4f1-2f032a81b70b",
   "metadata": {},
   "outputs": [
    {
     "name": "stdout",
     "output_type": "stream",
     "text": [
      "H e l l o\n"
     ]
    }
   ],
   "source": [
    "str7 = \"H\\te\\tl\\tl\\to\"\n",
    "\n",
    "sentence =  str7.expandtabs(2)\n",
    "\n",
    "print(sentence)"
   ]
  },
  {
   "cell_type": "markdown",
   "id": "ec639bc4-d4dc-4fcb-8321-1c06846982e9",
   "metadata": {},
   "source": [
    "# String find() Method finds the first occurrence of the specified value\n",
    "\n"
   ]
  },
  {
   "cell_type": "code",
   "execution_count": 6,
   "id": "5548b755-94a8-46ac-94bb-850eb07a073b",
   "metadata": {},
   "outputs": [
    {
     "name": "stdout",
     "output_type": "stream",
     "text": [
      "12\n"
     ]
    }
   ],
   "source": [
    "str8 = \"Hello, guys welcome to my home .\"\n",
    "\n",
    "sentence = str8.find(\"welcome\")\n",
    "\n",
    "print(sentence)"
   ]
  },
  {
   "cell_type": "markdown",
   "id": "2d7a028f-4b64-4467-9368-abf1ef3e8d74",
   "metadata": {},
   "source": [
    "# String format() Method formats the specified value(s) and insert them inside the string's placeholder "
   ]
  },
  {
   "cell_type": "code",
   "execution_count": 11,
   "id": "c8bfbf4d-d532-4f5d-b5ec-56fc06245339",
   "metadata": {},
   "outputs": [
    {
     "name": "stdout",
     "output_type": "stream",
     "text": [
      "For only 49.00 dollars!\n"
     ]
    }
   ],
   "source": [
    "str9 = \"For only {price:.2f} dollars!\"\n",
    "print(str9.format(price = 49))"
   ]
  },
  {
   "cell_type": "markdown",
   "id": "3eb78980-7633-4891-8d43-2757e5fd4755",
   "metadata": {},
   "source": [
    "# String index() Method finds the first occurrence of the specified value\n",
    "\n"
   ]
  },
  {
   "cell_type": "code",
   "execution_count": 14,
   "id": "5c54a339-039a-4754-9517-f2e3b93fbbc8",
   "metadata": {},
   "outputs": [
    {
     "name": "stdout",
     "output_type": "stream",
     "text": [
      "7\n"
     ]
    }
   ],
   "source": [
    "str10 = \"Hello, welcome to my world.\"\n",
    "\n",
    "sentence = str10.index(\"welcome\")\n",
    "\n",
    "print(sentence)"
   ]
  },
  {
   "cell_type": "markdown",
   "id": "47cea48c-db3c-4f9a-84b6-cc1a11b0e1d1",
   "metadata": {},
   "source": [
    "# String isalnum() Method returns True if all the characters are alphanumeric, meaning alphabet letter (a-z) and numbers (0-9)."
   ]
  },
  {
   "cell_type": "code",
   "execution_count": 17,
   "id": "17a51d54-a081-44b8-b208-540d0014bffa",
   "metadata": {},
   "outputs": [
    {
     "name": "stdout",
     "output_type": "stream",
     "text": [
      "True\n"
     ]
    }
   ],
   "source": [
    "str11 = \"BadmasCompany12\"\n",
    "\n",
    "sentence = str11.isalnum()\n",
    "\n",
    "print(sentence)"
   ]
  },
  {
   "cell_type": "markdown",
   "id": "b60ba662-8bdc-4425-846e-abc3682ee6ec",
   "metadata": {},
   "source": [
    "# String isalpha() Method returns True if all the characters are alphabet letters (a-z)."
   ]
  },
  {
   "cell_type": "code",
   "execution_count": 28,
   "id": "5b5fc9ef-7c63-4192-8613-33bb51dd653d",
   "metadata": {},
   "outputs": [
    {
     "name": "stdout",
     "output_type": "stream",
     "text": [
      "True\n"
     ]
    }
   ],
   "source": [
    "str12 = \"Companyx\"\n",
    "\n",
    "sentence = str12.isalpha()\n",
    "\n",
    "print(sentence)\n"
   ]
  },
  {
   "cell_type": "markdown",
   "id": "52703ac8-aba3-4d4f-86d5-074b4e3331cd",
   "metadata": {},
   "source": [
    "# String isascii() Method returns True if all the characters are ascii characters  (a-z)."
   ]
  },
  {
   "cell_type": "code",
   "execution_count": 35,
   "id": "7f31d015-2579-4d2d-87e1-446bbe166dd7",
   "metadata": {},
   "outputs": [
    {
     "name": "stdout",
     "output_type": "stream",
     "text": [
      "True\n"
     ]
    }
   ],
   "source": [
    "str13 = \"Company123\"\n",
    "\n",
    "sentence = str13.isascii()\n",
    "\n",
    "print(sentence)"
   ]
  },
  {
   "cell_type": "markdown",
   "id": "15f63581-ba0b-4142-9ddf-321301c2c6a1",
   "metadata": {},
   "source": [
    "# String isdecimal() Method returns True if all the characters are decimals (0-9).\n",
    "\n"
   ]
  },
  {
   "cell_type": "code",
   "execution_count": 40,
   "id": "98393b1d-9c50-4da3-aa1e-88d1a8abb751",
   "metadata": {},
   "outputs": [
    {
     "name": "stdout",
     "output_type": "stream",
     "text": [
      "False\n"
     ]
    }
   ],
   "source": [
    "str14 = \"x\"\n",
    "\n",
    "sentence = str14.isdecimal()\n",
    "\n",
    "print(sentence)"
   ]
  },
  {
   "cell_type": "code",
   "execution_count": 42,
   "id": "156d6d07-58ac-4054-ac6c-92b94189bcb0",
   "metadata": {},
   "outputs": [
    {
     "name": "stdout",
     "output_type": "stream",
     "text": [
      "True\n"
     ]
    }
   ],
   "source": [
    "str14 = \"1234\"\n",
    "\n",
    "sentence = str14.isdecimal()\n",
    "\n",
    "print(sentence)"
   ]
  },
  {
   "cell_type": "markdown",
   "id": "33c674fd-1b84-4a7f-8035-e08db6363458",
   "metadata": {},
   "source": [
    " # String isdigit() Method returns True if all the characters are digits, otherwise False. \n",
    "\n"
   ]
  },
  {
   "cell_type": "code",
   "execution_count": 45,
   "id": "67e726f2-acf7-4f86-af84-22cc01ce51a5",
   "metadata": {},
   "outputs": [
    {
     "name": "stdout",
     "output_type": "stream",
     "text": [
      "True\n"
     ]
    }
   ],
   "source": [
    "str15 = \"50800\"\n",
    "\n",
    "sentence = str15.isdigit()\n",
    "\n",
    "print(sentence)"
   ]
  },
  {
   "cell_type": "markdown",
   "id": "2652f84c-1e5f-4311-a76e-c3f45856b0b7",
   "metadata": {},
   "source": [
    "# String isidentifier() Method returns True if the string is a valid identifier, otherwise False. \n",
    "\n"
   ]
  },
  {
   "cell_type": "code",
   "execution_count": 48,
   "id": "38a8892b-45a6-4e9b-bdb6-34410fe29ce7",
   "metadata": {},
   "outputs": [
    {
     "name": "stdout",
     "output_type": "stream",
     "text": [
      "True\n"
     ]
    }
   ],
   "source": [
    "str16 = \"Demo\"\n",
    "\n",
    "sentence  = str16.isidentifier()\n",
    "\n",
    "print(sentence)"
   ]
  },
  {
   "cell_type": "markdown",
   "id": "38de9606-9005-451e-8940-c3d9ec808984",
   "metadata": {},
   "source": [
    "#  String islower() Method returns True if all the characters are in lower case, otherwise False."
   ]
  },
  {
   "cell_type": "code",
   "execution_count": 51,
   "id": "93f34a40-f767-4459-bbd1-e75422ff33f3",
   "metadata": {},
   "outputs": [
    {
     "name": "stdout",
     "output_type": "stream",
     "text": [
      "True\n"
     ]
    }
   ],
   "source": [
    "str17 = \"hello my girls!\"\n",
    "\n",
    "sentence = str17.islower()\n",
    "\n",
    "print(sentence)"
   ]
  },
  {
   "cell_type": "markdown",
   "id": "5fe01def-f247-4be1-96b9-fcd84ba8a923",
   "metadata": {},
   "source": [
    "# String isnumeric() Method  returns True if all the characters are numeric (0-9), otherwise False."
   ]
  },
  {
   "cell_type": "code",
   "execution_count": 54,
   "id": "b4124cbf-ba1c-4a25-94f6-3c74eae5c9c4",
   "metadata": {},
   "outputs": [
    {
     "name": "stdout",
     "output_type": "stream",
     "text": [
      "True\n"
     ]
    }
   ],
   "source": [
    "str18 = \"565543\"\n",
    "\n",
    "sentence = str18.isnumeric()\n",
    "\n",
    "print(sentence)"
   ]
  },
  {
   "cell_type": "markdown",
   "id": "5350c823-3b09-4501-be4f-73ccf6a90aa0",
   "metadata": {},
   "source": [
    "# String isprintable() Method returns True if all the characters are printable, otherwise False."
   ]
  },
  {
   "cell_type": "code",
   "execution_count": 61,
   "id": "2687649c-d0c4-4ab7-bd3d-9d065d3c31f1",
   "metadata": {},
   "outputs": [
    {
     "name": "stdout",
     "output_type": "stream",
     "text": [
      "True\n"
     ]
    }
   ],
   "source": [
    "str19 = \"##Hello! girls who's you 1?\"\n",
    "\n",
    "sentence = str19.isprintable()\n",
    "\n",
    "print(sentence)"
   ]
  },
  {
   "cell_type": "markdown",
   "id": "78e766e5-54ad-46a9-9d80-ae493c9a3b98",
   "metadata": {},
   "source": [
    " # String isspace() Method returns True if all the characters in a string are whitespaces, otherwise False."
   ]
  },
  {
   "cell_type": "code",
   "execution_count": 2,
   "id": "c7802d55-ac04-4140-b52b-1faa1304889b",
   "metadata": {},
   "outputs": [
    {
     "name": "stdout",
     "output_type": "stream",
     "text": [
      "False\n"
     ]
    }
   ],
   "source": [
    "str20 = \" t  \"\n",
    "\n",
    "sentence = str20.isspace()\n",
    "\n",
    "print(sentence)"
   ]
  },
  {
   "cell_type": "code",
   "execution_count": 4,
   "id": "1d3f01c9-65a5-4cad-a6c8-dfaf7c010510",
   "metadata": {},
   "outputs": [
    {
     "name": "stdout",
     "output_type": "stream",
     "text": [
      "True\n"
     ]
    }
   ],
   "source": [
    "str20 = \"   \"\n",
    "\n",
    "sentence = str20.isspace()\n",
    "\n",
    "print(sentence)"
   ]
  },
  {
   "cell_type": "markdown",
   "id": "6f702278-fb33-4373-a7eb-ed997e7b4a1b",
   "metadata": {},
   "source": [
    "# String istitle() Method  returns True if all words in a text start with a upper case letter, AND the rest of the word are lower case letters, otherwise False.\n",
    "\n"
   ]
  },
  {
   "cell_type": "code",
   "execution_count": 8,
   "id": "720ced54-77a2-4fc7-9111-544bf4f618e0",
   "metadata": {},
   "outputs": [
    {
     "name": "stdout",
     "output_type": "stream",
     "text": [
      "False\n"
     ]
    }
   ],
   "source": [
    "str21 = ' Hello peoples welcome back again'\n",
    "\n",
    "sentence = str21.istitle()\n",
    "\n",
    "print(sentence)"
   ]
  },
  {
   "cell_type": "code",
   "execution_count": 10,
   "id": "f3941dcd-7e48-44b0-b28b-ba9aa12ddd66",
   "metadata": {},
   "outputs": [
    {
     "name": "stdout",
     "output_type": "stream",
     "text": [
      "True\n"
     ]
    }
   ],
   "source": [
    "str21 = ' Hello Peoples Welcome Back Again'\n",
    "\n",
    "sentence = str21.istitle()\n",
    "\n",
    "print(sentence)"
   ]
  },
  {
   "cell_type": "markdown",
   "id": "3c16f2be-714b-4fd0-a9a3-d96b37512564",
   "metadata": {},
   "source": [
    "# String isupper() Method  returns True if all the characters are in upper case, otherwise False.s."
   ]
  },
  {
   "cell_type": "code",
   "execution_count": 14,
   "id": "19d297ca-47de-4c93-b12c-dc2dfd4ad2b3",
   "metadata": {},
   "outputs": [
    {
     "name": "stdout",
     "output_type": "stream",
     "text": [
      "True\n"
     ]
    }
   ],
   "source": [
    "str22 = 'SHE IS NOT MINNE ANY MORE'\n",
    "\n",
    "sentence = str22.isupper()\n",
    "\n",
    "print(sentence)"
   ]
  },
  {
   "cell_type": "markdown",
   "id": "7089ee17-79d9-4f55-aef5-6bffb086786b",
   "metadata": {},
   "source": [
    "# String join() Method takes all items in an iterable and joins them into one string."
   ]
  },
  {
   "cell_type": "code",
   "execution_count": 19,
   "id": "47c2c07d-d59c-46c5-9c56-2250e44f269f",
   "metadata": {},
   "outputs": [
    {
     "name": "stdout",
     "output_type": "stream",
     "text": [
      "clasy#dexter#stany\n"
     ]
    }
   ],
   "source": [
    "str23 = (\"clasy\", \"dexter\", \"stany\")\n",
    "\n",
    "sentence = \"#\".join(str23)\n",
    "\n",
    "print(sentence)"
   ]
  },
  {
   "cell_type": "markdown",
   "id": "cec91d45-1e16-4f2f-98e6-45d090b465e5",
   "metadata": {},
   "source": [
    "# String ljust() Method will left align the string, using a specified character (space is default) as the fill character."
   ]
  },
  {
   "cell_type": "code",
   "execution_count": 27,
   "id": "908465f3-63c9-4973-b71c-d02a15d76629",
   "metadata": {},
   "outputs": [
    {
     "name": "stdout",
     "output_type": "stream",
     "text": [
      "apple                is my favorite fruit.\n"
     ]
    }
   ],
   "source": [
    "str24 = \"apple\"\n",
    "\n",
    "sentence = str24.ljust(20)\n",
    "\n",
    "print(sentence, \"is my favorite fruit.\")"
   ]
  },
  {
   "cell_type": "markdown",
   "id": "8b5990cf-351e-447c-b48b-4e76f8708f74",
   "metadata": {},
   "source": [
    "# String lower() Method returns a string where all characters are lower case.\n"
   ]
  },
  {
   "cell_type": "code",
   "execution_count": 33,
   "id": "98bbbaca-f886-4be7-b1f6-5a7b0c3a01c6",
   "metadata": {},
   "outputs": [
    {
     "name": "stdout",
     "output_type": "stream",
     "text": [
      "she is not there\n"
     ]
    }
   ],
   "source": [
    "str25 = 'SHE is NOT THERE'\n",
    "\n",
    "sentence = str25.lower()\n",
    "\n",
    "print(sentence)"
   ]
  },
  {
   "cell_type": "markdown",
   "id": "b7fef5bf-d24b-4b1d-8373-47eadde22a60",
   "metadata": {},
   "source": [
    "# String lstrip() Method removes any leading characters (space is the default leading character to remove)"
   ]
  },
  {
   "cell_type": "code",
   "execution_count": 37,
   "id": "50b05491-ff10-4893-9afe-aeaa4b050590",
   "metadata": {},
   "outputs": [
    {
     "name": "stdout",
     "output_type": "stream",
     "text": [
      "of all fruits Apple      is my favorite\n"
     ]
    }
   ],
   "source": [
    "str26 = \"     Apple     \"\n",
    "\n",
    "sentence = str26.lstrip()\n",
    "\n",
    "print(\"of all fruits\", sentence, \"is my favorite\")"
   ]
  },
  {
   "cell_type": "code",
   "execution_count": null,
   "id": "c89bfd4a-bbfc-47dd-a9d9-27e8e40b0103",
   "metadata": {},
   "outputs": [],
   "source": []
  },
  {
   "cell_type": "markdown",
   "id": "da068463-2faa-4f81-bb32-65969c10c929",
   "metadata": {},
   "source": [
    "# String maketrans() Method returns a mapping table that can be used with the translate() method to replace specified characters.\n",
    "\n"
   ]
  },
  {
   "cell_type": "code",
   "execution_count": 43,
   "id": "ecc8a29f-e853-40bc-8558-f92a5398233b",
   "metadata": {},
   "outputs": [
    {
     "name": "stdout",
     "output_type": "stream",
     "text": [
      "Hello Penny!\n"
     ]
    }
   ],
   "source": [
    "str27 = \"Hello Jenny!\"\n",
    "\n",
    "sentence = str.maketrans(\"J\", \"P\")\n",
    "\n",
    "print(str27.translate(sentence))"
   ]
  },
  {
   "cell_type": "markdown",
   "id": "87e96f09-521a-4425-9a7a-68f236f3c89a",
   "metadata": {},
   "source": [
    "# String partition() Method searches for a specified string, and splits the string into a tuple containing three elements.\n",
    "\n"
   ]
  },
  {
   "cell_type": "code",
   "execution_count": 46,
   "id": "339fba2d-73a5-47cd-ae86-698fd35d3a8e",
   "metadata": {},
   "outputs": [
    {
     "name": "stdout",
     "output_type": "stream",
     "text": [
      "('I could eat ', 'bananas', ' all day')\n"
     ]
    }
   ],
   "source": [
    "str28 = \"I could eat bananas all day\"\n",
    "\n",
    "sentence = str28.partition(\"bananas\")\n",
    "\n",
    "print(sentence)"
   ]
  },
  {
   "cell_type": "markdown",
   "id": "b1a62a70-9764-4243-bc18-4d503654dfce",
   "metadata": {},
   "source": [
    "# String replace() Method replaces a specified phrase with another specified phrase.\n"
   ]
  },
  {
   "cell_type": "code",
   "execution_count": 53,
   "id": "032502d4-baef-4051-a398-e8cfbc3ac53d",
   "metadata": {},
   "outputs": [
    {
     "name": "stdout",
     "output_type": "stream",
     "text": [
      "I like apples\n"
     ]
    }
   ],
   "source": [
    "str29 = \"I like juice\"\n",
    "\n",
    "sentence = str29.replace(\"juice\", \"apples\")\n",
    "\n",
    "print(sentence)"
   ]
  },
  {
   "cell_type": "code",
   "execution_count": null,
   "id": "20d95739-59ce-4905-99ee-136085a7b71a",
   "metadata": {},
   "outputs": [],
   "source": []
  },
  {
   "cell_type": "markdown",
   "id": "cdf94274-25a7-4f73-b70f-2fdf50aa424f",
   "metadata": {},
   "source": [
    "# String rfind() Method  finds the last occurrence of the specified value.\n",
    "\n"
   ]
  },
  {
   "cell_type": "code",
   "execution_count": 61,
   "id": "16718f44-aa42-4e4e-9f20-fb448cd72f8c",
   "metadata": {},
   "outputs": [
    {
     "name": "stdout",
     "output_type": "stream",
     "text": [
      "3\n"
     ]
    }
   ],
   "source": [
    "str30 = \"Mi Amor, su lesta.\"\n",
    "\n",
    "sentence = str30.rfind(\"Amor\")\n",
    "\n",
    "print(sentence)"
   ]
  },
  {
   "cell_type": "code",
   "execution_count": null,
   "id": "7b5a2816-d9c6-4766-bdb2-9a3579fc4cbd",
   "metadata": {},
   "outputs": [],
   "source": []
  },
  {
   "cell_type": "markdown",
   "id": "e0b3ff98-961e-415a-a6f1-9820e007abc9",
   "metadata": {},
   "source": [
    "# String rindex() Method  finds the last occurrence of the specified value."
   ]
  },
  {
   "cell_type": "code",
   "execution_count": 65,
   "id": "cd5cc096-484e-4d43-b8fd-1b5f16a0edbf",
   "metadata": {},
   "outputs": [
    {
     "name": "stdout",
     "output_type": "stream",
     "text": [
      "12\n"
     ]
    }
   ],
   "source": [
    "str31 = \"Mi Amor, su Amor.\"\n",
    "\n",
    "sentence = str31.rindex(\"Amor\")\n",
    "\n",
    "print(sentence)"
   ]
  },
  {
   "cell_type": "markdown",
   "id": "416f6a88-4779-4722-b2af-043b0f8aac62",
   "metadata": {},
   "source": [
    "# String rjust() Method will right align the string, using a specified character (space is default) as the fill character.\n",
    "\n",
    "\n",
    "\n"
   ]
  },
  {
   "cell_type": "code",
   "execution_count": 69,
   "id": "10964f2b-6c2f-4ae8-a28e-d3c2f35ef7a3",
   "metadata": {},
   "outputs": [
    {
     "name": "stdout",
     "output_type": "stream",
     "text": [
      "            football is my favorite game.\n"
     ]
    }
   ],
   "source": [
    "str32 = \"football\"\n",
    "\n",
    "sentence = str32.rjust(20)\n",
    "\n",
    "print(sentence, \"is my favorite game.\")"
   ]
  },
  {
   "cell_type": "markdown",
   "id": "77e4d7df-fcf4-41bc-9673-af28140d1f1d",
   "metadata": {},
   "source": [
    "# String rpartition() Method searches for the last occurrence of a specified string, and splits the string into a tuple containing three elements"
   ]
  },
  {
   "cell_type": "code",
   "execution_count": 73,
   "id": "e238cefb-1eb3-4d6f-a3ca-6f37a3750bd9",
   "metadata": {},
   "outputs": [
    {
     "name": "stdout",
     "output_type": "stream",
     "text": [
      "('I could mangoes pineapple all day, ', 'pineapple', ' are my favorite fruit')\n"
     ]
    }
   ],
   "source": [
    "str33  = \"I could mangoes pineapple all day, pineapple are my favorite fruit\"\n",
    "\n",
    "sentence = str33.rpartition(\"pineapple\")\n",
    "\n",
    "print(sentence)"
   ]
  },
  {
   "cell_type": "code",
   "execution_count": null,
   "id": "f473f6c8-5e1c-4aae-86f3-a738fb221ce4",
   "metadata": {},
   "outputs": [],
   "source": []
  },
  {
   "cell_type": "markdown",
   "id": "1a82b21a-6f6a-46a8-a9f6-6cc6f460ad87",
   "metadata": {},
   "source": [
    "# String rsplit() Method splits a string into a list, starting from the right.\n",
    "\n"
   ]
  },
  {
   "cell_type": "code",
   "execution_count": 77,
   "id": "38c1cc83-34ce-4116-bdef-31c39e9fa61a",
   "metadata": {},
   "outputs": [
    {
     "name": "stdout",
     "output_type": "stream",
     "text": [
      "['litchi', 'kivi', 'cherry']\n"
     ]
    }
   ],
   "source": [
    "str34 = \"litchi, kivi, cherry\"\n",
    "\n",
    "sentence = str34.rsplit(\", \")\n",
    "\n",
    "print(sentence)"
   ]
  },
  {
   "cell_type": "markdown",
   "id": "dd2af406-121d-46b6-a7df-0567f1b75e45",
   "metadata": {},
   "source": [
    "# String rstrip() Method removes any trailing characters (characters at the end a string), space is the default trailing character to remove.\n",
    "\n",
    "\n",
    "\n"
   ]
  },
  {
   "cell_type": "code",
   "execution_count": 80,
   "id": "01f7ac94-ede7-4af5-9927-21298b032b52",
   "metadata": {},
   "outputs": [
    {
     "name": "stdout",
     "output_type": "stream",
     "text": [
      "of all fruits      banana is my favorite\n"
     ]
    }
   ],
   "source": [
    "str35 = \"     banana     \"\n",
    "\n",
    "sentence = str35.rstrip()\n",
    "\n",
    "print(\"of all fruits\", sentence, \"is my favorite\")\n"
   ]
  },
  {
   "cell_type": "markdown",
   "id": "1693d7cf-b881-4ca9-b3ea-d11bb6aca54a",
   "metadata": {},
   "source": [
    "# String split() Method splits a string into a list.\n",
    "\n"
   ]
  },
  {
   "cell_type": "code",
   "execution_count": 83,
   "id": "25588189-d290-4970-9f5f-654ef692537c",
   "metadata": {},
   "outputs": [
    {
     "name": "stdout",
     "output_type": "stream",
     "text": [
      "['welcome', 'to', 'the', 'vlogg']\n"
     ]
    }
   ],
   "source": [
    "str36 = \"welcome to the vlogg\"\n",
    "\n",
    "sentence = str36.split()\n",
    "\n",
    "print(sentence)"
   ]
  },
  {
   "cell_type": "markdown",
   "id": "8571152c-d805-432b-a10f-fe21dcdf6986",
   "metadata": {},
   "source": [
    "# String splitlines() Method splits a string into a list. The splitting is done at line breaks.\n",
    "\n"
   ]
  },
  {
   "cell_type": "code",
   "execution_count": 86,
   "id": "28fa14bd-7ecc-4d77-9c79-9c4fa9dd9f67",
   "metadata": {},
   "outputs": [
    {
     "name": "stdout",
     "output_type": "stream",
     "text": [
      "['Thank you for the music', 'Welcome to the jungle']\n"
     ]
    }
   ],
   "source": [
    "str37 = \"Thank you for the music\\nWelcome to the jungle\"\n",
    "\n",
    "sentence = str37.splitlines()\n",
    "\n",
    "print(sentence)"
   ]
  },
  {
   "cell_type": "markdown",
   "id": "8b3120e9-49b8-4c65-8f8d-49bcfcc71bd5",
   "metadata": {},
   "source": [
    "# String startswith() Method returns True if the string starts with the specified value, otherwise False.\n",
    "\n",
    "\n",
    "\n"
   ]
  },
  {
   "cell_type": "code",
   "execution_count": 89,
   "id": "f561535b-b779-4d38-b54e-1ab1fa268caa",
   "metadata": {},
   "outputs": [
    {
     "name": "stdout",
     "output_type": "stream",
     "text": [
      "True\n"
     ]
    }
   ],
   "source": [
    "str38 = \"Hello, welcome to my home.\"\n",
    "\n",
    "sentence = str38.startswith(\"Hello\")\n",
    "\n",
    "print(sentence)"
   ]
  },
  {
   "cell_type": "markdown",
   "id": "af528d31-7037-4fa7-974c-7ff93b414c04",
   "metadata": {},
   "source": [
    "# String strip() Method removes any leading, and trailing whitespaces.\n",
    "\n"
   ]
  },
  {
   "cell_type": "code",
   "execution_count": 94,
   "id": "5c5fcd4d-841f-4f40-93ad-28f8c0c6e057",
   "metadata": {},
   "outputs": [
    {
     "name": "stdout",
     "output_type": "stream",
     "text": [
      "of all fruits watermelon is my favorite\n"
     ]
    }
   ],
   "source": [
    "str39 = \"     watermelon     \"\n",
    "\n",
    "sentence = str39.strip()\n",
    "\n",
    "print(\"of all fruits\", sentence, \"is my favorite\")"
   ]
  },
  {
   "cell_type": "markdown",
   "id": "a4c81ef7-2fc3-4115-8618-1211008c511f",
   "metadata": {},
   "source": [
    "# String swapcase() Method returns a string where all the upper case letters are lower case and vice versa.\n",
    "\n",
    "\n",
    "\n"
   ]
  },
  {
   "cell_type": "code",
   "execution_count": 105,
   "id": "f794c343-7ee3-48ff-bac5-ead5c39b3885",
   "metadata": {},
   "outputs": [
    {
     "name": "stdout",
     "output_type": "stream",
     "text": [
      "hELLO mY nAME iS peter parkar\n"
     ]
    }
   ],
   "source": [
    "str40 = \"Hello My Name Is PETER PARKAR\"\n",
    "\n",
    "sentence = str40.swapcase()\n",
    "\n",
    "print(sentence)"
   ]
  },
  {
   "cell_type": "markdown",
   "id": "4db420e5-ef61-4947-9df1-66d28aa5aec5",
   "metadata": {},
   "source": [
    "# String title() Method returns a string where the first character in every word is upper case. Like a header, or a title.\n",
    "\n"
   ]
  },
  {
   "cell_type": "code",
   "execution_count": 107,
   "id": "4c93deef-d940-441a-bc67-23ffb9632630",
   "metadata": {},
   "outputs": [
    {
     "name": "stdout",
     "output_type": "stream",
     "text": [
      "Welcome To My House\n"
     ]
    }
   ],
   "source": [
    "str41 = \"Welcome to my HOUSE\"\n",
    "\n",
    "sentence = str41.title()\n",
    "\n",
    "print(sentence)"
   ]
  },
  {
   "cell_type": "markdown",
   "id": "5f472f3a-2e88-44a9-a443-5f3e461f6073",
   "metadata": {},
   "source": [
    "# String translate() Method returns a string where some specified characters are replaced with the character described in a dictionary, or in a mapping table.\n",
    "\n"
   ]
  },
  {
   "cell_type": "code",
   "execution_count": 112,
   "id": "1d383c73-a767-4e23-9185-d2feb511d1ae",
   "metadata": {},
   "outputs": [
    {
     "name": "stdout",
     "output_type": "stream",
     "text": [
      "Hello sunder!\n"
     ]
    }
   ],
   "source": [
    "#use a dictionary with ascii codes to replace 83 (S) with 80 (P):\n",
    "str42 = {83:  80}\n",
    "sentence = \"Hello sunder!\"\n",
    "print(sentence.translate(str42))"
   ]
  },
  {
   "cell_type": "markdown",
   "id": "35abfda7-7d5e-4f8a-a976-cc079fb2a42a",
   "metadata": {},
   "source": [
    "# String upper() Method returns a string where all characters are in upper case.\n",
    "\n"
   ]
  },
  {
   "cell_type": "code",
   "execution_count": 115,
   "id": "6f79fb5b-8f59-4480-8a26-633833336049",
   "metadata": {},
   "outputs": [
    {
     "name": "stdout",
     "output_type": "stream",
     "text": [
      "HELLO BABY\n"
     ]
    }
   ],
   "source": [
    "str43 = \"Hello baby\"\n",
    "\n",
    "sentence = str43.upper()\n",
    "\n",
    "print(sentence)"
   ]
  },
  {
   "cell_type": "markdown",
   "id": "c66b1eb1-2ef6-4b81-b94b-eb72ff812ef9",
   "metadata": {},
   "source": [
    "# String zfill() Method adds zeros (0) at the beginning of the string, until it reaches the specified length.\n",
    "\n"
   ]
  },
  {
   "cell_type": "code",
   "execution_count": 124,
   "id": "a3f27e8c-3f08-4e42-b798-ef12cb301a60",
   "metadata": {},
   "outputs": [
    {
     "name": "stdout",
     "output_type": "stream",
     "text": [
      "0000000050\n"
     ]
    }
   ],
   "source": [
    "str44 = \"50\"\n",
    "\n",
    "sentence = str44.zfill(10)\n",
    "\n",
    "print(sentence)"
   ]
  },
  {
   "cell_type": "code",
   "execution_count": null,
   "id": "ed01b9f6-1276-4187-94ee-a42a0d0de904",
   "metadata": {},
   "outputs": [],
   "source": []
  }
 ],
 "metadata": {
  "kernelspec": {
   "display_name": "Python 3 (ipykernel)",
   "language": "python",
   "name": "python3"
  },
  "language_info": {
   "codemirror_mode": {
    "name": "ipython",
    "version": 3
   },
   "file_extension": ".py",
   "mimetype": "text/x-python",
   "name": "python",
   "nbconvert_exporter": "python",
   "pygments_lexer": "ipython3",
   "version": "3.11.7"
  }
 },
 "nbformat": 4,
 "nbformat_minor": 5
}
