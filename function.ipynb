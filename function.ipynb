{
 "cells": [
  {
   "cell_type": "code",
   "execution_count": 1,
   "metadata": {},
   "outputs": [
    {
     "data": {
      "text/plain": [
       "2"
      ]
     },
     "execution_count": 1,
     "metadata": {},
     "output_type": "execute_result"
    }
   ],
   "source": [
    "1+1"
   ]
  },
  {
   "cell_type": "code",
   "execution_count": 2,
   "metadata": {},
   "outputs": [],
   "source": [
    "#task"
   ]
  },
  {
   "cell_type": "code",
   "execution_count": 3,
   "metadata": {},
   "outputs": [],
   "source": [
    "def dooperation(p1,p2,p3):\n",
    "    print(f'opreation provide p3 and for addtion p1')\n",
    "    "
   ]
  },
  {
   "cell_type": "code",
   "execution_count": 4,
   "metadata": {},
   "outputs": [
    {
     "ename": "SyntaxError",
     "evalue": "expression cannot contain assignment, perhaps you meant \"==\"? (1777887135.py, line 9)",
     "output_type": "error",
     "traceback": [
      "\u001b[1;36m  Cell \u001b[1;32mIn[4], line 9\u001b[1;36m\u001b[0m\n\u001b[1;33m    print (f'checkEXC' = chcekEXC)\u001b[0m\n\u001b[1;37m           ^\u001b[0m\n\u001b[1;31mSyntaxError\u001b[0m\u001b[1;31m:\u001b[0m expression cannot contain assignment, perhaps you meant \"==\"?\n"
     ]
    }
   ],
   "source": [
    "def chcekEXC(p1):\n",
    "    print('inside body function')\n",
    "    print(f'p1= {p1}')\n",
    "    print('end of funnction body')\n",
    "\n",
    "    print('call function')\n",
    "    chcekEXC('called')\n",
    "    print('function call end')\n",
    "    print (f'checkEXC' = chcekEXC)"
   ]
  },
  {
   "cell_type": "code",
   "execution_count": null,
   "metadata": {},
   "outputs": [
    {
     "name": "stdout",
     "output_type": "stream",
     "text": [
      "The result of multiplication is greater than 50: 100\n",
      "No operation result was greater than the specified check values.\n",
      "The result of addition is greater than 50: 110\n"
     ]
    }
   ],
   "source": [
    "def add(a, b):\n",
    "    return a + b\n",
    "\n",
    "def subtract(a, b):\n",
    "    return a - b\n",
    "\n",
    "def divide(a, b):\n",
    "    if b == 0:\n",
    "        return \"Division by zero error\"\n",
    "    return a / b\n",
    "\n",
    "def multiply(a, b):\n",
    "    return a * b\n",
    "\n",
    "def check_and_print(value, check_values):\n",
    "    for check_value in check_values:\n",
    "        if value > check_value:\n",
    "            return True, check_value\n",
    "    return False, None\n",
    "\n",
    "def execute_cycle(a, b):\n",
    "    operations = {\n",
    "        \"addition\": add,\n",
    "        \"subtraction\": subtract,\n",
    "        \"division\": divide,\n",
    "        \"multiplication\": multiply\n",
    "    }\n",
    "    \n",
    "    check_values = [50, 100]\n",
    "    \n",
    "    for op_name, operation in operations.items():\n",
    "        result = operation(a, b)\n",
    "        if isinstance(result, str):  # Check if there's an error message\n",
    "            print(result)\n",
    "            continue\n",
    "        check, check_value = check_and_print(result, check_values)\n",
    "        if check:\n",
    "            return f\"The result of {op_name} is greater than {check_value}: {result}\"\n",
    "    \n",
    "    return \"No operation result was greater than the specified check values.\"\n",
    "\n",
    "# Example usage\n",
    "a = 20\n",
    "b = 5\n",
    "print(execute_cycle(a, b))\n",
    "\n",
    "# You can change the values of a and b to test different scenarios\n",
    "a = 10\n",
    "b = 2\n",
    "print(execute_cycle(a, b))\n",
    "\n",
    "a = 100\n",
    "b = 10\n",
    "print(execute_cycle(a, b))\n"
   ]
  },
  {
   "cell_type": "code",
   "execution_count": 5,
   "metadata": {},
   "outputs": [
    {
     "name": "stdout",
     "output_type": "stream",
     "text": [
      "Addition: 150\n",
      "Subtraction: -50\n",
      "Multiplication: 5000\n",
      "Division: 0.5\n",
      "Is value greater than check value? False\n",
      "Operation result: 150\n"
     ]
    }
   ],
   "source": [
    "def arithmetic_operations(a, b, operation):\n",
    "    \"\"\"Perform arithmetic operations.\"\"\"\n",
    "    if operation == 'add':\n",
    "        return a + b\n",
    "    elif operation == 'subtract':\n",
    "        return a - b\n",
    "    elif operation == 'multiply':\n",
    "        return a * b\n",
    "    elif operation == 'divide':\n",
    "        if b != 0:\n",
    "            return a / b\n",
    "        else:\n",
    "            return \"Division by zero is not allowed\"\n",
    "    else:\n",
    "        return \"Invalid operation\"\n",
    "\n",
    "def is_greater_than(value, check_value):\n",
    "    \"\"\"Check if value is greater than check_value.\"\"\"\n",
    "    return value > check_value\n",
    "\n",
    "def get_arithmetic_result(a, b, operation):\n",
    "    \"\"\"Return result of arithmetic operations.\"\"\"\n",
    "    result = arithmetic_operations(a, b, operation)\n",
    "    return result\n",
    "\n",
    "# Example execution\n",
    "a = 50\n",
    "b = 100\n",
    "\n",
    "print(\"Addition:\", arithmetic_operations(a, b, 'add'))\n",
    "print(\"Subtraction:\", arithmetic_operations(a, b, 'subtract'))\n",
    "print(\"Multiplication:\", arithmetic_operations(a, b, 'multiply'))\n",
    "print(\"Division:\", arithmetic_operations(a, b, 'divide'))\n",
    "\n",
    "value = 50\n",
    "check_value = 100\n",
    "print(\"Is value greater than check value?\", is_greater_than(value, check_value))\n",
    "\n",
    "operation_result = get_arithmetic_result(a, b, 'add')\n",
    "print(\"Operation result:\", operation_result)\n"
   ]
  }
 ],
 "metadata": {
  "kernelspec": {
   "display_name": "Python 3",
   "language": "python",
   "name": "python3"
  },
  "language_info": {
   "codemirror_mode": {
    "name": "ipython",
    "version": 3
   },
   "file_extension": ".py",
   "mimetype": "text/x-python",
   "name": "python",
   "nbconvert_exporter": "python",
   "pygments_lexer": "ipython3",
   "version": "3.12.4"
  }
 },
 "nbformat": 4,
 "nbformat_minor": 2
}
